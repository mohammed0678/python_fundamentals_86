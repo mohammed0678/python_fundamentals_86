{
 "cells": [
  {
   "cell_type": "code",
   "execution_count": 6,
   "id": "32ef901c-f590-4a1b-bd61-162bec71b296",
   "metadata": {},
   "outputs": [],
   "source": [
    "cars = ['maruthi','kia','benz','suzuki','audi','toyota','bmw']"
   ]
  },
  {
   "cell_type": "code",
   "execution_count": 7,
   "id": "0029d1ae-7e8c-47ee-a601-3cb2da962682",
   "metadata": {},
   "outputs": [
    {
     "name": "stdout",
     "output_type": "stream",
     "text": [
      "['maruthi', 'kia', 'benz', 'suzuki', 'audi', 'toyota', 'bmw']\n"
     ]
    }
   ],
   "source": [
    "print(cars)"
   ]
  },
  {
   "cell_type": "code",
   "execution_count": 8,
   "id": "a580f2bb-8920-4055-a966-94447c0be150",
   "metadata": {},
   "outputs": [
    {
     "data": {
      "text/plain": [
       "list"
      ]
     },
     "execution_count": 8,
     "metadata": {},
     "output_type": "execute_result"
    }
   ],
   "source": [
    "type(cars)"
   ]
  },
  {
   "cell_type": "code",
   "execution_count": 9,
   "id": "fe61ab04-3129-4962-9394-b00485a7e2a7",
   "metadata": {},
   "outputs": [
    {
     "name": "stdout",
     "output_type": "stream",
     "text": [
      "['audi', 'benz', 'bmw', 'kia', 'maruthi', 'suzuki', 'toyota']\n"
     ]
    }
   ],
   "source": [
    "print(sorted(cars))"
   ]
  },
  {
   "cell_type": "code",
   "execution_count": 10,
   "id": "30d56927-127c-4186-8227-88fcf132f97b",
   "metadata": {},
   "outputs": [
    {
     "name": "stdout",
     "output_type": "stream",
     "text": [
      "['maruthi', 'kia', 'benz', 'suzuki', 'audi', 'toyota', 'bmw']\n"
     ]
    }
   ],
   "source": [
    "print(cars)"
   ]
  },
  {
   "cell_type": "code",
   "execution_count": 11,
   "id": "0a84ac40-b612-4b2f-932d-66875be99c60",
   "metadata": {},
   "outputs": [],
   "source": [
    "cars.sort()"
   ]
  },
  {
   "cell_type": "code",
   "execution_count": 12,
   "id": "0d29c8d5-b8d5-4a48-8900-e0ad51bba298",
   "metadata": {},
   "outputs": [
    {
     "name": "stdout",
     "output_type": "stream",
     "text": [
      "['audi', 'benz', 'bmw', 'kia', 'maruthi', 'suzuki', 'toyota']\n"
     ]
    }
   ],
   "source": [
    "print(cars)"
   ]
  },
  {
   "cell_type": "code",
   "execution_count": 13,
   "id": "2c27756b-ed3a-43c5-b303-d1092f3d539c",
   "metadata": {},
   "outputs": [],
   "source": [
    "cars.reverse()"
   ]
  },
  {
   "cell_type": "code",
   "execution_count": 14,
   "id": "e656329b-8b6d-4da0-811f-b70a5969655c",
   "metadata": {},
   "outputs": [
    {
     "name": "stdout",
     "output_type": "stream",
     "text": [
      "['toyota', 'suzuki', 'maruthi', 'kia', 'bmw', 'benz', 'audi']\n"
     ]
    }
   ],
   "source": [
    "print(cars)"
   ]
  },
  {
   "cell_type": "code",
   "execution_count": 15,
   "id": "ebf5aecb-d105-4fe4-97c2-81b3750ef410",
   "metadata": {},
   "outputs": [
    {
     "data": {
      "text/plain": [
       "7"
      ]
     },
     "execution_count": 15,
     "metadata": {},
     "output_type": "execute_result"
    }
   ],
   "source": [
    "len(cars)"
   ]
  },
  {
   "cell_type": "code",
   "execution_count": null,
   "id": "a930bf69-fef6-4316-9941-f4bf5c98c804",
   "metadata": {},
   "outputs": [],
   "source": []
  },
  {
   "cell_type": "code",
   "execution_count": 17,
   "id": "1461c4a5-0a61-487d-94bf-2e5f1d106da6",
   "metadata": {},
   "outputs": [],
   "source": [
    "students = ['diksha','sonam','naveen','pradeep','abdul','nahid','afsha','muskaan']"
   ]
  },
  {
   "cell_type": "code",
   "execution_count": 18,
   "id": "a784c6f8-1898-4676-871c-0a5d945f5a88",
   "metadata": {},
   "outputs": [
    {
     "name": "stdout",
     "output_type": "stream",
     "text": [
      "['diksha', 'sonam', 'naveen', 'pradeep', 'abdul', 'nahid', 'afsha', 'muskaan']\n"
     ]
    }
   ],
   "source": [
    "print(students)"
   ]
  },
  {
   "cell_type": "code",
   "execution_count": 19,
   "id": "564ae03f-d4e1-41f1-bcb9-774f8f97a599",
   "metadata": {},
   "outputs": [
    {
     "name": "stdout",
     "output_type": "stream",
     "text": [
      "['diksha']\n"
     ]
    }
   ],
   "source": [
    "print(students[0:1])"
   ]
  },
  {
   "cell_type": "code",
   "execution_count": 20,
   "id": "b1f4e370-87d1-4e46-830d-a29e06885c62",
   "metadata": {},
   "outputs": [
    {
     "name": "stdout",
     "output_type": "stream",
     "text": [
      "['diksha', 'sonam']\n"
     ]
    }
   ],
   "source": [
    "print(students[0:2])"
   ]
  },
  {
   "cell_type": "code",
   "execution_count": 21,
   "id": "2d280042-4541-4d54-8b89-399914aabfce",
   "metadata": {},
   "outputs": [
    {
     "name": "stdout",
     "output_type": "stream",
     "text": [
      "['naveen', 'pradeep']\n"
     ]
    }
   ],
   "source": [
    "print(students[2:4])"
   ]
  },
  {
   "cell_type": "code",
   "execution_count": 22,
   "id": "d128a357-4a01-4dfe-9d2c-d5329bf60396",
   "metadata": {},
   "outputs": [
    {
     "name": "stdout",
     "output_type": "stream",
     "text": [
      "['diksha', 'naveen', 'abdul', 'afsha']\n"
     ]
    }
   ],
   "source": [
    "print(students[0:9:2])"
   ]
  },
  {
   "cell_type": "code",
   "execution_count": null,
   "id": "b909b8a6-8e97-4d75-a60d-d8a51a7432e1",
   "metadata": {},
   "outputs": [],
   "source": []
  }
 ],
 "metadata": {
  "kernelspec": {
   "display_name": "anaconda-panel-2023.05-py310",
   "language": "python",
   "name": "conda-env-anaconda-panel-2023.05-py310-py"
  },
  "language_info": {
   "codemirror_mode": {
    "name": "ipython",
    "version": 3
   },
   "file_extension": ".py",
   "mimetype": "text/x-python",
   "name": "python",
   "nbconvert_exporter": "python",
   "pygments_lexer": "ipython3",
   "version": "3.11.5"
  }
 },
 "nbformat": 4,
 "nbformat_minor": 5
}
