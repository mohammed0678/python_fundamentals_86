{
 "cells": [
  {
   "cell_type": "code",
   "execution_count": 1,
   "id": "d64417e1-5c75-42cb-96f0-dbaee19a57fb",
   "metadata": {},
   "outputs": [],
   "source": [
    "students = ['afsha','pradeepa','naveen','prakash','muskaan','abdul'] #0,1,2,3,4,5"
   ]
  },
  {
   "cell_type": "code",
   "execution_count": 2,
   "id": "3d0e1ace-1cdf-4585-aeaa-1f12280506e5",
   "metadata": {},
   "outputs": [
    {
     "name": "stdout",
     "output_type": "stream",
     "text": [
      "['afsha', 'pradeepa', 'naveen', 'prakash', 'muskaan', 'abdul']\n"
     ]
    }
   ],
   "source": [
    "print(students)"
   ]
  },
  {
   "cell_type": "code",
   "execution_count": 3,
   "id": "7cc08225-f358-4709-a0fd-87bcd53e1aa4",
   "metadata": {},
   "outputs": [
    {
     "data": {
      "text/plain": [
       "list"
      ]
     },
     "execution_count": 3,
     "metadata": {},
     "output_type": "execute_result"
    }
   ],
   "source": [
    "type(students)"
   ]
  },
  {
   "cell_type": "code",
   "execution_count": 4,
   "id": "dab6da0b-624b-47e2-b78a-824082bc7f37",
   "metadata": {},
   "outputs": [
    {
     "name": "stdout",
     "output_type": "stream",
     "text": [
      "pradeepa\n"
     ]
    }
   ],
   "source": [
    "print(students[1])"
   ]
  },
  {
   "cell_type": "code",
   "execution_count": 5,
   "id": "1aca4f71-1974-4da6-aaa1-b3534c871479",
   "metadata": {},
   "outputs": [
    {
     "name": "stdout",
     "output_type": "stream",
     "text": [
      "Pradeepa\n"
     ]
    }
   ],
   "source": [
    "print(students[1].title())"
   ]
  },
  {
   "cell_type": "code",
   "execution_count": 6,
   "id": "19811d23-24bd-481a-8507-ac3bbcdb6de0",
   "metadata": {},
   "outputs": [
    {
     "name": "stdout",
     "output_type": "stream",
     "text": [
      "Prakash\n"
     ]
    }
   ],
   "source": [
    "print(students[3].title())"
   ]
  },
  {
   "cell_type": "code",
   "execution_count": 7,
   "id": "0bd62db1-2485-4aec-9a6c-304cffdba616",
   "metadata": {},
   "outputs": [],
   "source": [
    "students.append('joseph')"
   ]
  },
  {
   "cell_type": "code",
   "execution_count": 8,
   "id": "8740611c-2834-4c75-9f03-e49e5324e36b",
   "metadata": {},
   "outputs": [
    {
     "name": "stdout",
     "output_type": "stream",
     "text": [
      "['afsha', 'pradeepa', 'naveen', 'prakash', 'muskaan', 'abdul', 'joseph']\n"
     ]
    }
   ],
   "source": [
    "print(students)"
   ]
  },
  {
   "cell_type": "code",
   "execution_count": 9,
   "id": "945f94f0-d214-4c7a-898c-468b0ecaeffd",
   "metadata": {},
   "outputs": [],
   "source": [
    "students.append('santosh')"
   ]
  },
  {
   "cell_type": "code",
   "execution_count": 10,
   "id": "03d434aa-3904-42bd-b0ef-6767f2149b10",
   "metadata": {},
   "outputs": [
    {
     "name": "stdout",
     "output_type": "stream",
     "text": [
      "['afsha', 'pradeepa', 'naveen', 'prakash', 'muskaan', 'abdul', 'joseph', 'santosh']\n"
     ]
    }
   ],
   "source": [
    "print(students)"
   ]
  },
  {
   "cell_type": "code",
   "execution_count": 12,
   "id": "c1ea266d-920b-47c8-bf08-074dee7be127",
   "metadata": {},
   "outputs": [],
   "source": [
    "students.insert(2, 'afreen')"
   ]
  },
  {
   "cell_type": "code",
   "execution_count": 13,
   "id": "c77bd1c8-9f77-4f46-af46-5bf6edf7184e",
   "metadata": {},
   "outputs": [
    {
     "name": "stdout",
     "output_type": "stream",
     "text": [
      "afreen\n"
     ]
    }
   ],
   "source": [
    "print(students[2])"
   ]
  },
  {
   "cell_type": "code",
   "execution_count": 14,
   "id": "84aa0d9b-a9e3-4f69-82f5-545f3f859629",
   "metadata": {},
   "outputs": [],
   "source": [
    "students[0] = 'sonam'"
   ]
  },
  {
   "cell_type": "code",
   "execution_count": 15,
   "id": "8b799c86-1599-4998-b38b-f1c03d44b5e4",
   "metadata": {},
   "outputs": [
    {
     "name": "stdout",
     "output_type": "stream",
     "text": [
      "['sonam', 'pradeepa', 'afreen', 'naveen', 'prakash', 'muskaan', 'abdul', 'joseph', 'santosh']\n"
     ]
    }
   ],
   "source": [
    "print(students)"
   ]
  },
  {
   "cell_type": "code",
   "execution_count": 16,
   "id": "9b0876de-6457-4b0e-b1f3-7c3093e8f446",
   "metadata": {},
   "outputs": [],
   "source": [
    "del students[3]"
   ]
  },
  {
   "cell_type": "code",
   "execution_count": 17,
   "id": "10a75845-1b7a-4f38-9cf7-09f0001e05fa",
   "metadata": {},
   "outputs": [
    {
     "name": "stdout",
     "output_type": "stream",
     "text": [
      "['sonam', 'pradeepa', 'afreen', 'prakash', 'muskaan', 'abdul', 'joseph', 'santosh']\n"
     ]
    }
   ],
   "source": [
    "print(students)"
   ]
  },
  {
   "cell_type": "code",
   "execution_count": 18,
   "id": "b824ba13-3a31-400e-b5fd-270a017624d7",
   "metadata": {},
   "outputs": [],
   "source": [
    "x = students.pop()"
   ]
  },
  {
   "cell_type": "code",
   "execution_count": 19,
   "id": "5ddc39d4-2fe3-4930-8ba7-1a6220d67acc",
   "metadata": {},
   "outputs": [
    {
     "name": "stdout",
     "output_type": "stream",
     "text": [
      "['sonam', 'pradeepa', 'afreen', 'prakash', 'muskaan', 'abdul', 'joseph']\n"
     ]
    }
   ],
   "source": [
    "print(students)"
   ]
  },
  {
   "cell_type": "code",
   "execution_count": 20,
   "id": "6c363d6e-9823-4afd-ba45-52e347fab988",
   "metadata": {},
   "outputs": [
    {
     "name": "stdout",
     "output_type": "stream",
     "text": [
      "santosh\n"
     ]
    }
   ],
   "source": [
    "print(x)"
   ]
  },
  {
   "cell_type": "code",
   "execution_count": null,
   "id": "8cc521c5-3ee0-42b2-828a-1ed4f1f5320b",
   "metadata": {},
   "outputs": [],
   "source": []
  }
 ],
 "metadata": {
  "kernelspec": {
   "display_name": "",
   "name": ""
  },
  "language_info": {
   "name": ""
  }
 },
 "nbformat": 4,
 "nbformat_minor": 5
}
