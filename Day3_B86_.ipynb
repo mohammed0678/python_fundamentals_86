{
 "cells": [
  {
   "cell_type": "code",
   "execution_count": null,
   "id": "1d6deed9-314d-4d9d-8644-e9f65776068b",
   "metadata": {},
   "outputs": [],
   "source": [
    "f \"custom message{placeholder-1}{placeholder-2}.....{placeholder--n}\""
   ]
  },
  {
   "cell_type": "code",
   "execution_count": 1,
   "id": "005c2c3c-f52c-4e9e-8e76-f8292be349da",
   "metadata": {},
   "outputs": [],
   "source": [
    "firstname = \"pradeep\""
   ]
  },
  {
   "cell_type": "code",
   "execution_count": 2,
   "id": "dd3eff78-159e-4d7e-8046-ea0e83b4327f",
   "metadata": {},
   "outputs": [],
   "source": [
    "lastname = \"kumar\""
   ]
  },
  {
   "cell_type": "code",
   "execution_count": 10,
   "id": "b6ebd5b7-d973-4acf-8d94-d409ef467b98",
   "metadata": {},
   "outputs": [],
   "source": [
    "fullname = f\"{fullname}\""
   ]
  },
  {
   "cell_type": "code",
   "execution_count": 9,
   "id": "a969a996-1278-4ab5-b507-03a1f3b020b2",
   "metadata": {},
   "outputs": [
    {
     "name": "stdout",
     "output_type": "stream",
     "text": [
      "(pradeep)(kumar)\n"
     ]
    }
   ],
   "source": [
    "print(fullname)"
   ]
  },
  {
   "cell_type": "code",
   "execution_count": 7,
   "id": "2de44dfd-ccf6-415f-83a0-125c8b0a3169",
   "metadata": {},
   "outputs": [
    {
     "name": "stdout",
     "output_type": "stream",
     "text": [
      "(Pradeep)(Kumar)\n"
     ]
    }
   ],
   "source": [
    "print(fullname.title())"
   ]
  },
  {
   "cell_type": "code",
   "execution_count": 11,
   "id": "8c816749-a317-4df9-9955-3988e2c83ff0",
   "metadata": {},
   "outputs": [],
   "source": [
    "message = f\"keep up the good work, {fullname.title()}\""
   ]
  },
  {
   "cell_type": "code",
   "execution_count": 12,
   "id": "6528d691-1e2a-4bba-9e95-71aa227aed59",
   "metadata": {},
   "outputs": [
    {
     "name": "stdout",
     "output_type": "stream",
     "text": [
      "keep up the good work, (Pradeep)(Kumar)\n"
     ]
    }
   ],
   "source": [
    "print(message)"
   ]
  },
  {
   "cell_type": "code",
   "execution_count": null,
   "id": "8568571b-91cc-4b59-b799-04a1e4809797",
   "metadata": {},
   "outputs": [],
   "source": []
  },
  {
   "cell_type": "code",
   "execution_count": 14,
   "id": "5adbfcca-ece0-423b-a93e-a4d909fde789",
   "metadata": {},
   "outputs": [
    {
     "name": "stdout",
     "output_type": "stream",
     "text": [
      "fav_prog_language:pythonjavac++swiftc\n"
     ]
    }
   ],
   "source": [
    "print(\"fav_prog_language:pythonjavac++swiftc\")"
   ]
  },
  {
   "cell_type": "code",
   "execution_count": 15,
   "id": "41ce5637-a4d7-4035-b240-c41d471602a3",
   "metadata": {},
   "outputs": [
    {
     "name": "stdout",
     "output_type": "stream",
     "text": [
      "fav_prog_language:\n",
      "python\n",
      "java\n",
      "c++\n",
      "swift\n",
      "c\n"
     ]
    }
   ],
   "source": [
    "print(\"fav_prog_language:\\npython\\njava\\nc++\\nswift\\nc\")"
   ]
  },
  {
   "cell_type": "code",
   "execution_count": null,
   "id": "44f8f6b6-e23c-421f-aa7f-241a23c01fe9",
   "metadata": {},
   "outputs": [],
   "source": []
  },
  {
   "cell_type": "code",
   "execution_count": 16,
   "id": "11182abd-d360-4726-b5f7-505e882da794",
   "metadata": {},
   "outputs": [
    {
     "name": "stdout",
     "output_type": "stream",
     "text": [
      "fav_prog_language:\n",
      "\tpython\n",
      "\tjava\n",
      "\tc++\n",
      "\tswift\n",
      "\tc\n"
     ]
    }
   ],
   "source": [
    "print(\"fav_prog_language:\\n\\tpython\\n\\tjava\\n\\tc++\\n\\tswift\\n\\tc\")"
   ]
  },
  {
   "cell_type": "code",
   "execution_count": null,
   "id": "6310fdf2-fbba-4997-b4ca-251bb6e4523b",
   "metadata": {},
   "outputs": [],
   "source": []
  },
  {
   "cell_type": "code",
   "execution_count": 17,
   "id": "947292c2-3e2a-42fa-8550-e2b073fb61cd",
   "metadata": {},
   "outputs": [],
   "source": [
    "name = \" python\""
   ]
  },
  {
   "cell_type": "code",
   "execution_count": 18,
   "id": "6b1dc57e-915f-4eda-b726-5ff1de5afb60",
   "metadata": {},
   "outputs": [
    {
     "name": "stdout",
     "output_type": "stream",
     "text": [
      " python\n"
     ]
    }
   ],
   "source": [
    "print(name)"
   ]
  },
  {
   "cell_type": "code",
   "execution_count": 19,
   "id": "ca22366d-4e6c-4738-a640-2f5a9b4e6feb",
   "metadata": {},
   "outputs": [],
   "source": [
    "name2 = \"python \""
   ]
  },
  {
   "cell_type": "code",
   "execution_count": 20,
   "id": "febb3d55-29dc-4c2a-822b-9b7eaf7d0ad9",
   "metadata": {},
   "outputs": [
    {
     "name": "stdout",
     "output_type": "stream",
     "text": [
      "python \n"
     ]
    }
   ],
   "source": [
    "print(name2)"
   ]
  },
  {
   "cell_type": "code",
   "execution_count": 21,
   "id": "537c4cd2-f8b5-4b73-bc9e-1b82b725076e",
   "metadata": {},
   "outputs": [],
   "source": [
    "name3 = \"python\""
   ]
  },
  {
   "cell_type": "code",
   "execution_count": 22,
   "id": "0536960e-4e23-4396-85f2-4096f2e57863",
   "metadata": {},
   "outputs": [
    {
     "name": "stdout",
     "output_type": "stream",
     "text": [
      "python\n"
     ]
    }
   ],
   "source": [
    "print(name3)"
   ]
  },
  {
   "cell_type": "code",
   "execution_count": 26,
   "id": "b741bfc9-6acd-489d-876b-ac2c304a6cce",
   "metadata": {},
   "outputs": [
    {
     "data": {
      "text/plain": [
       "'python'"
      ]
     },
     "execution_count": 26,
     "metadata": {},
     "output_type": "execute_result"
    }
   ],
   "source": [
    "name.lstrip()"
   ]
  },
  {
   "cell_type": "code",
   "execution_count": 27,
   "id": "837bc621-efc2-40a4-8f11-dc8198268914",
   "metadata": {},
   "outputs": [
    {
     "data": {
      "text/plain": [
       "'python'"
      ]
     },
     "execution_count": 27,
     "metadata": {},
     "output_type": "execute_result"
    }
   ],
   "source": [
    "name2.rstrip()"
   ]
  },
  {
   "cell_type": "code",
   "execution_count": null,
   "id": "3daa6902-aa49-453c-8b7d-ee1b0af13eba",
   "metadata": {},
   "outputs": [],
   "source": []
  }
 ],
 "metadata": {
  "kernelspec": {
   "display_name": "anaconda-panel-2023.05-py310",
   "language": "python",
   "name": "conda-env-anaconda-panel-2023.05-py310-py"
  },
  "language_info": {
   "codemirror_mode": {
    "name": "ipython",
    "version": 3
   },
   "file_extension": ".py",
   "mimetype": "text/x-python",
   "name": "python",
   "nbconvert_exporter": "python",
   "pygments_lexer": "ipython3",
   "version": "3.11.5"
  }
 },
 "nbformat": 4,
 "nbformat_minor": 5
}
